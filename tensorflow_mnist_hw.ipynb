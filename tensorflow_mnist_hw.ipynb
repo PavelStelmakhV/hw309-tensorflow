{
  "nbformat": 4,
  "nbformat_minor": 0,
  "metadata": {
    "kernelspec": {
      "display_name": "Python 3",
      "language": "python",
      "name": "python3"
    },
    "language_info": {
      "codemirror_mode": {
        "name": "ipython",
        "version": 3
      },
      "file_extension": ".py",
      "mimetype": "text/x-python",
      "name": "python",
      "nbconvert_exporter": "python",
      "pygments_lexer": "ipython3",
      "version": "3.8.0"
    },
    "colab": {
      "provenance": [],
      "include_colab_link": true
    },
    "accelerator": "GPU"
  },
  "cells": [
    {
      "cell_type": "markdown",
      "metadata": {
        "id": "view-in-github",
        "colab_type": "text"
      },
      "source": [
        "<a href=\"https://colab.research.google.com/github/PavelStelmakhV/hw309-tensorflow/blob/main/tensorflow_mnist_hw.ipynb\" target=\"_parent\"><img src=\"https://colab.research.google.com/assets/colab-badge.svg\" alt=\"Open In Colab\"/></a>"
      ]
    },
    {
      "cell_type": "markdown",
      "metadata": {
        "id": "b0Yf4NBJUSNM"
      },
      "source": [
        "# Создание нейронной сети\n",
        "\n",
        "В этом задании мы создадим полносвязную нейронную сеть используя при этом низкоуровневые механизмы tensorflow.\n",
        "\n",
        "Архитектутра нейросети представлена на следующем рисунке. Как видите, в ней имеется один входной слой, два скрытых, а так же выходной слой. В качестве активационной функции в скрытых слоях будет использоваться сигмоида. На выходном слое мы используем softmax.\n",
        "\n",
        "Часть кода по созданию сети уже написана, от вас требуется заполнить пропуски в указанных местах."
      ]
    },
    {
      "cell_type": "markdown",
      "metadata": {
        "id": "01rZWUu0USNQ"
      },
      "source": [
        "## Архитектура нейронной сети\n",
        "\n",
        "<img src=\"http://cs231n.github.io/assets/nn1/neural_net2.jpeg\" alt=\"nn\" style=\"width: 400px;\"/>\n"
      ]
    },
    {
      "cell_type": "markdown",
      "metadata": {
        "id": "LLvIZ705Qw_V"
      },
      "source": [
        "## О датасете MNIST\n",
        "\n",
        "Данную нейросеть мы будем обучать на датасете MNIST. Этот датасет представляет собой большое количество изображений рукописных цифр размером $28 \\times 28$ пикселей. Каждый пиксель принимает значение от 0 до 255.\n",
        "\n",
        "Как и раньше датасет будет разеделен на обучающую и тестовую выборки. При этом мы выполним нормализацию всех изображений, чтобы значения пикселей находились в промежутке от 0 до 1, разделив яркость каждого пикселя на 255.\n",
        "\n",
        "Кроме того, архитектура нейронной сети ожидает на вход вектор. В нашем же случае каждый объект выборки представляет собой матрицу. Что же делать? В этом задании мы \"растянем\" матрицу $28 \\times 28$, получив при этом вектор, состоящей из 784 элементов.\n",
        "\n",
        "![MNIST Dataset](https://www.researchgate.net/profile/Steven-Young-5/publication/306056875/figure/fig1/AS:393921575309346@1470929630835/Example-images-from-the-MNIST-dataset.png)\n",
        "\n",
        "Больше информации о датасете можно найти [здесь](http://yann.lecun.com/exdb/mnist/)."
      ]
    },
    {
      "cell_type": "code",
      "metadata": {
        "id": "il_0_5OyUSNR"
      },
      "source": [
        "import tensorflow as tf\n",
        "import numpy as np\n",
        "import matplotlib.pyplot as plt"
      ],
      "execution_count": 1,
      "outputs": []
    },
    {
      "cell_type": "code",
      "metadata": {
        "id": "cd-1_abTUSNS"
      },
      "source": [
        "num_classes = 10 # общее количество классов, в нашем случае это цифры от 0 до 9\n",
        "num_features = 784 # количество атрибутов входного вектора 28 * 28 = 784\n",
        "\n",
        "learning_rate = 0.001 # скорость обучения нейронной сети\n",
        "training_steps = 3000 # максимальное число эпох\n",
        "batch_size = 256 # пересчитывать веса сети мы будем не на всей выборке, а на ее случайном подможестве из batch_size элементов\n",
        "display_step = 100 # каждые 100 итераций мы будем показывать текущее значение функции потерь и точности\n",
        "\n",
        "n_hidden_1 = 128 # количество нейронов 1-го слоя\n",
        "n_hidden_2 = 256 # количество нейронов 2-го слоя"
      ],
      "execution_count": 2,
      "outputs": []
    },
    {
      "cell_type": "code",
      "metadata": {
        "id": "pGTXiRyTUSNT",
        "outputId": "72a8179c-0af4-40db-990d-3ef8edef9a50",
        "colab": {
          "base_uri": "https://localhost:8080/"
        }
      },
      "source": [
        "from tensorflow.keras.datasets import mnist\n",
        "\n",
        "# Загружаем датасет\n",
        "(x_train, y_train), (x_test, y_test) = mnist.load_data()\n",
        "\n",
        "# Преобразуем целочисленные пиксели к типа float32\n",
        "x_train, x_test = np.array(x_train, np.float32), np.array(x_test, np.float32)\n",
        "\n",
        "# Преобразуем матрицы размером 28x28 пикселей в вектор из 784 элементов\n",
        "x_train, x_test = x_train.reshape([-1, num_features]), x_test.reshape([-1, num_features])\n",
        "\n",
        "# Нормализуем значения пикселей\n",
        "x_train, x_test = x_train / 255., x_test / 255.\n",
        "\n",
        "# Перемешаем тренировочные данные\n",
        "train_data = tf.data.Dataset.from_tensor_slices((x_train, y_train))\n",
        "train_data = train_data.repeat().shuffle(5000).batch(batch_size).prefetch(1)"
      ],
      "execution_count": 3,
      "outputs": [
        {
          "output_type": "stream",
          "name": "stdout",
          "text": [
            "Downloading data from https://storage.googleapis.com/tensorflow/tf-keras-datasets/mnist.npz\n",
            "11490434/11490434 [==============================] - 0s 0us/step\n"
          ]
        }
      ]
    },
    {
      "cell_type": "code",
      "metadata": {
        "id": "FkRmCQjnUSNV"
      },
      "source": [
        "# Создадим нейронную сеть\n",
        "\n",
        "class DenseLayer(tf.Module):\n",
        "    def __init__(self, in_features, out_features, name=None):\n",
        "        super().__init__(name=name)\n",
        "        # Место для вашего кода\n",
        "        self.w = tf.Variable(\n",
        "            tf.random.normal([in_features, out_features]), name=\"w\"\n",
        "        )\n",
        "        self.b = tf.Variable(tf.zeros([out_features]), name=\"b\")\n",
        "\n",
        "    def __call__(self, x):\n",
        "        # Место для вашего кода\n",
        "        y = tf.matmul(x, self.w) + self.b\n",
        "        return tf.nn.relu(y)\n",
        "\n",
        "class NN(tf.Module):\n",
        "  def __init__(self, name=None):\n",
        "    super().__init__(name=name)\n",
        "    # Первый слой, состоящий из 128 нейронов\n",
        "    # Место для вашего кода\n",
        "    self.layer_1 = DenseLayer(in_features=num_features, out_features=n_hidden_1)\n",
        "\n",
        "    # Второй слой, состоящий из 256 нейронов\n",
        "    # Место для вашего кода\n",
        "    self.layer_2 = DenseLayer(in_features=n_hidden_1, out_features=n_hidden_2)\n",
        "\n",
        "    # Выходной слой\n",
        "    # Место для вашего кода\n",
        "    self.output_layer = DenseLayer(in_features=n_hidden_2, out_features=num_classes)\n",
        "\n",
        "  def __call__(self, x):\n",
        "    # Место для вашего кода\n",
        "    x = self.layer_1(x)\n",
        "    x = self.layer_2(x)\n",
        "\n",
        "    # Помните что для выхода нейронной сети мы применяем к выходу функцию softmax.\n",
        "    # Делаем мы это для того, чтобы\n",
        "    # выход нейронной сети принимал значения от 0 до 1 в соответствии с вероятностью\n",
        "    # принадлежности входного объекта к одному из 10 классов\n",
        "\n",
        "    x = self.output_layer(x)\n",
        "    return tf.nn.softmax(x)"
      ],
      "execution_count": 4,
      "outputs": []
    },
    {
      "cell_type": "code",
      "metadata": {
        "id": "LIf3o7VAUSNV"
      },
      "source": [
        "# В качестве функции ошибки в данном случае удобно взять кросс-энтропию\n",
        "def cross_entropy(y_pred, y_true):\n",
        "    # Encode label to a one hot vector.\n",
        "    y_true = tf.one_hot(y_true, depth=num_classes)\n",
        "\n",
        "    # Clip prediction values to avoid log(0) error.\n",
        "    y_pred = tf.clip_by_value(y_pred, 1e-9, 1.)\n",
        "\n",
        "    # Вычисление кросс-энтропии\n",
        "    return tf.reduce_mean(-tf.reduce_sum(y_true * tf.math.log(y_pred)))\n",
        "\n",
        "# В качестве метрики качества используем точность\n",
        "def accuracy(y_pred, y_true):\n",
        "    # Место для вашего кода\n",
        "    m = tf.keras.metrics.Accuracy()\n",
        "    m.update_state(y_pred, y_true)\n",
        "    return m.result().numpy()"
      ],
      "execution_count": 5,
      "outputs": []
    },
    {
      "cell_type": "code",
      "metadata": {
        "id": "MQeT1yatUSNW"
      },
      "source": [
        "# Создадим экзампляр нейронной сети\n",
        "neural_net = NN(name=\"mnist\")\n",
        "\n",
        "# Функция обучения нейросети\n",
        "def train(nn, input_x, output_y):\n",
        "  # Для подгонки весов сети будем использовать стохастический градиентный спуск\n",
        "  optimizer = tf.optimizers.SGD(learning_rate)\n",
        "\n",
        "  # Активация автоматического дифференцирования\n",
        "  with tf.GradientTape() as g:\n",
        "    pred = neural_net(input_x)\n",
        "    loss = cross_entropy(pred, output_y)\n",
        "\n",
        "    # Создадим оптимизируемых список параметров\n",
        "    # Место для вашего кода\n",
        "    param = [nn.w, nn.b]\n",
        "    # Вычислим по ним значение градиента\n",
        "    # Место для вашего кода\n",
        "    dw, db = g.gradient(loss, [nn.w, nn.b])\n",
        "    # Модифицируем параметры\n",
        "    # Место для вашего кода\n",
        "    nn.w.assign_sub(optimizer * dw)\n",
        "    nn.b.assign_sub(optimizer * db)"
      ],
      "execution_count": 6,
      "outputs": []
    },
    {
      "cell_type": "code",
      "metadata": {
        "id": "fnyns9lBfpQZ",
        "colab": {
          "base_uri": "https://localhost:8080/"
        },
        "outputId": "fe2260d7-e25d-4b23-989e-114df1ff4dec"
      },
      "source": [
        "# Тренировка сети\n",
        "\n",
        "loss_history = []  # каждые display_step шагов сохраняйте в этом список текущую ошибку нейросети\n",
        "accuracy_history = [] # каждые display_step шагов сохраняйте в этом список текущую точность нейросети\n",
        "\n",
        "# В этом цикле мы будем производить обучение нейронной сети\n",
        "# из тренировочного датасета train_data извлеките случайное подмножество, на котором\n",
        "# произведется тренировка. Используйте метод take, доступный для тренировочного датасета.\n",
        "for step, (batch_x, batch_y) in enumerate(train_data.take(2), 1): # Место для вашего кода:\n",
        "    # Обновляем веса нейронной сети\n",
        "    # Место для вашего кода\n",
        "\n",
        "    print(batch_x.shape, batch_y.shape)\n",
        "    print(batch_x.numpy())\n",
        "    print(batch_y.numpy())\n",
        "\n",
        "    # train(neural_net, batch_x, batch_y)\n",
        "\n",
        "    # if step % display_step == 0:\n",
        "    #     pred = neural_net(batch_x)\n",
        "    #     # Место для вашего кода\n",
        "    #     loss_history.append(1)\n",
        "    #     accuracy_history.append(2)\n",
        "    #     print(\"step: %i, loss: %f, accuracy: %f\" % (step, loss_history, accuracy_history))\n",
        "    #     # current_loss = accuracy(y, model(x))"
      ],
      "execution_count": 7,
      "outputs": [
        {
          "output_type": "stream",
          "name": "stdout",
          "text": [
            "(256, 784) (256,)\n",
            "[[0. 0. 0. ... 0. 0. 0.]\n",
            " [0. 0. 0. ... 0. 0. 0.]\n",
            " [0. 0. 0. ... 0. 0. 0.]\n",
            " ...\n",
            " [0. 0. 0. ... 0. 0. 0.]\n",
            " [0. 0. 0. ... 0. 0. 0.]\n",
            " [0. 0. 0. ... 0. 0. 0.]]\n",
            "[2 1 4 8 8 6 9 6 8 6 1 1 0 8 5 6 7 4 9 7 6 6 5 6 4 9 8 5 1 6 0 2 4 6 3 8 2\n",
            " 4 6 9 0 7 3 1 7 2 5 0 0 1 9 1 1 2 8 7 7 7 6 2 5 2 1 3 0 4 4 2 7 7 1 7 5 6\n",
            " 8 4 2 3 1 2 1 1 6 0 7 4 9 2 6 2 0 0 5 9 0 1 7 0 8 7 4 4 6 0 5 5 4 0 6 4 4\n",
            " 8 0 1 7 5 4 0 7 1 0 4 9 2 3 0 2 9 5 7 0 8 2 2 2 7 1 7 2 4 3 3 9 6 9 8 4 5\n",
            " 7 1 8 7 0 4 0 2 3 4 7 2 1 2 0 6 0 7 5 9 7 9 8 2 2 7 1 4 3 9 8 4 7 7 4 7 1\n",
            " 1 8 9 3 6 3 1 1 4 1 2 2 7 1 9 9 6 8 5 4 6 6 8 3 3 4 7 1 9 3 9 6 3 7 5 5 5\n",
            " 2 3 3 6 1 9 1 1 3 3 1 4 4 8 3 1 1 8 4 1 4 9 1 1 4 2 8 2 1 4 2 6 5 8]\n",
            "(256, 784) (256,)\n",
            "[[0. 0. 0. ... 0. 0. 0.]\n",
            " [0. 0. 0. ... 0. 0. 0.]\n",
            " [0. 0. 0. ... 0. 0. 0.]\n",
            " ...\n",
            " [0. 0. 0. ... 0. 0. 0.]\n",
            " [0. 0. 0. ... 0. 0. 0.]\n",
            " [0. 0. 0. ... 0. 0. 0.]]\n",
            "[5 9 7 6 8 0 0 6 1 5 7 9 3 2 6 4 8 6 5 1 0 5 1 3 1 1 4 5 2 8 1 4 3 0 1 9 3\n",
            " 3 3 0 1 5 5 2 2 7 7 6 8 7 6 5 5 4 9 0 3 0 6 2 6 9 4 1 6 5 6 2 2 0 0 9 4 8\n",
            " 8 0 1 7 1 7 2 3 0 5 3 8 8 7 2 5 8 6 7 9 6 9 0 9 0 4 1 9 8 5 4 2 0 3 7 4 9\n",
            " 1 9 7 7 7 6 3 7 7 9 4 9 4 5 0 2 1 2 1 4 1 9 6 1 4 0 9 1 4 1 6 4 0 2 8 5 6\n",
            " 0 9 3 2 6 9 9 2 3 8 3 6 3 2 3 5 9 7 9 4 7 3 5 5 6 1 4 6 7 7 8 2 5 2 4 8 0\n",
            " 1 5 7 9 6 1 1 9 5 2 4 0 3 7 7 7 1 7 0 1 5 0 7 8 1 4 1 9 5 9 9 6 9 9 3 0 8\n",
            " 9 0 2 3 3 7 1 7 6 3 7 2 0 2 4 8 2 7 5 5 3 7 7 9 4 7 7 8 0 8 9 1 0 4]\n"
          ]
        }
      ]
    },
    {
      "cell_type": "code",
      "metadata": {
        "id": "_yCBfG6MbQB2"
      },
      "source": [
        "# Выведите графики зависимости изменения точности и потерь от шага\n",
        "# Если все сделано правильно, то точность должна расти, а потери уменьшаться\n",
        "\n",
        "# Место для вашего кода"
      ],
      "execution_count": 8,
      "outputs": []
    },
    {
      "cell_type": "code",
      "metadata": {
        "id": "LE3g4gDyUSNY"
      },
      "source": [
        "# Вычислите точность обученной нейросети\n",
        "\n",
        "# Место для вашего кода"
      ],
      "execution_count": 9,
      "outputs": []
    },
    {
      "cell_type": "code",
      "metadata": {
        "id": "_EEHAubOUSNY"
      },
      "source": [
        "# Протестируем обученную нейросеть на 10 изображениях. Из тестовой выборки возьмите 5\n",
        "# случайных изображений и передайте их в нейронню сеть.\n",
        "# Выведите изображение и выпишите рядом ответ нейросети.\n",
        "# Сделайте вывод о том ошибается ли ваша нейронная сеть и если да, то как часто?\n",
        "\n",
        "# Место для вашего кода"
      ],
      "execution_count": 10,
      "outputs": []
    }
  ]
}