{
  "nbformat": 4,
  "nbformat_minor": 0,
  "metadata": {
    "kernelspec": {
      "display_name": "Python 3",
      "language": "python",
      "name": "python3"
    },
    "language_info": {
      "codemirror_mode": {
        "name": "ipython",
        "version": 3
      },
      "file_extension": ".py",
      "mimetype": "text/x-python",
      "name": "python",
      "nbconvert_exporter": "python",
      "pygments_lexer": "ipython3",
      "version": "3.8.0"
    },
    "colab": {
      "provenance": [],
      "include_colab_link": true
    },
    "accelerator": "GPU"
  },
  "cells": [
    {
      "cell_type": "markdown",
      "metadata": {
        "id": "view-in-github",
        "colab_type": "text"
      },
      "source": [
        "<a href=\"https://colab.research.google.com/github/PavelStelmakhV/hw309-tensorflow/blob/main/tensorflow_mnist_hw.ipynb\" target=\"_parent\"><img src=\"https://colab.research.google.com/assets/colab-badge.svg\" alt=\"Open In Colab\"/></a>"
      ]
    },
    {
      "cell_type": "markdown",
      "metadata": {
        "id": "b0Yf4NBJUSNM"
      },
      "source": [
        "# Создание нейронной сети\n",
        "\n",
        "В этом задании мы создадим полносвязную нейронную сеть используя при этом низкоуровневые механизмы tensorflow.\n",
        "\n",
        "Архитектутра нейросети представлена на следующем рисунке. Как видите, в ней имеется один входной слой, два скрытых, а так же выходной слой. В качестве активационной функции в скрытых слоях будет использоваться сигмоида. На выходном слое мы используем softmax.\n",
        "\n",
        "Часть кода по созданию сети уже написана, от вас требуется заполнить пропуски в указанных местах."
      ]
    },
    {
      "cell_type": "markdown",
      "metadata": {
        "id": "01rZWUu0USNQ"
      },
      "source": [
        "## Архитектура нейронной сети\n",
        "\n",
        "<img src=\"http://cs231n.github.io/assets/nn1/neural_net2.jpeg\" alt=\"nn\" style=\"width: 400px;\"/>\n"
      ]
    },
    {
      "cell_type": "markdown",
      "metadata": {
        "id": "LLvIZ705Qw_V"
      },
      "source": [
        "## О датасете MNIST\n",
        "\n",
        "Данную нейросеть мы будем обучать на датасете MNIST. Этот датасет представляет собой большое количество изображений рукописных цифр размером $28 \\times 28$ пикселей. Каждый пиксель принимает значение от 0 до 255.\n",
        "\n",
        "Как и раньше датасет будет разеделен на обучающую и тестовую выборки. При этом мы выполним нормализацию всех изображений, чтобы значения пикселей находились в промежутке от 0 до 1, разделив яркость каждого пикселя на 255.\n",
        "\n",
        "Кроме того, архитектура нейронной сети ожидает на вход вектор. В нашем же случае каждый объект выборки представляет собой матрицу. Что же делать? В этом задании мы \"растянем\" матрицу $28 \\times 28$, получив при этом вектор, состоящей из 784 элементов.\n",
        "\n",
        "![MNIST Dataset](https://www.researchgate.net/profile/Steven-Young-5/publication/306056875/figure/fig1/AS:393921575309346@1470929630835/Example-images-from-the-MNIST-dataset.png)\n",
        "\n",
        "Больше информации о датасете можно найти [здесь](http://yann.lecun.com/exdb/mnist/)."
      ]
    },
    {
      "cell_type": "code",
      "metadata": {
        "id": "il_0_5OyUSNR"
      },
      "source": [
        "import tensorflow as tf\n",
        "import numpy as np\n",
        "import matplotlib.pyplot as plt"
      ],
      "execution_count": 1,
      "outputs": []
    },
    {
      "cell_type": "code",
      "metadata": {
        "id": "cd-1_abTUSNS"
      },
      "source": [
        "num_classes = 10 # общее количество классов, в нашем случае это цифры от 0 до 9\n",
        "num_features = 784 # количество атрибутов входного вектора 28 * 28 = 784\n",
        "\n",
        "learning_rate = 0.001 # скорость обучения нейронной сети\n",
        "training_steps = 3000 # максимальное число эпох\n",
        "batch_size = 256 # пересчитывать веса сети мы будем не на всей выборке, а на ее случайном подможестве из batch_size элементов\n",
        "display_step = 100 # каждые 100 итераций мы будем показывать текущее значение функции потерь и точности\n",
        "\n",
        "n_hidden_1 = 128 # количество нейронов 1-го слоя\n",
        "n_hidden_2 = 256 # количество нейронов 2-го слоя"
      ],
      "execution_count": 2,
      "outputs": []
    },
    {
      "cell_type": "code",
      "metadata": {
        "id": "pGTXiRyTUSNT",
        "outputId": "809733f5-762a-4451-bf37-b3e528ee70bc",
        "colab": {
          "base_uri": "https://localhost:8080/"
        }
      },
      "source": [
        "from tensorflow.keras.datasets import mnist\n",
        "\n",
        "# Загружаем датасет\n",
        "(x_train, y_train), (x_test, y_test) = mnist.load_data()\n",
        "\n",
        "# Преобразуем целочисленные пиксели к типа float32\n",
        "x_train, x_test = np.array(x_train, np.float32), np.array(x_test, np.float32)\n",
        "\n",
        "# Преобразуем матрицы размером 28x28 пикселей в вектор из 784 элементов\n",
        "x_train, x_test = x_train.reshape([-1, num_features]), x_test.reshape([-1, num_features])\n",
        "\n",
        "# Нормализуем значения пикселей\n",
        "x_train, x_test = x_train / 255., x_test / 255.\n",
        "\n",
        "# Перемешаем тренировочные данные\n",
        "train_data = tf.data.Dataset.from_tensor_slices((x_train, y_train))\n",
        "train_data = train_data.repeat().shuffle(5000).batch(batch_size).prefetch(1)"
      ],
      "execution_count": 3,
      "outputs": [
        {
          "output_type": "stream",
          "name": "stdout",
          "text": [
            "Downloading data from https://storage.googleapis.com/tensorflow/tf-keras-datasets/mnist.npz\n",
            "11490434/11490434 [==============================] - 0s 0us/step\n"
          ]
        }
      ]
    },
    {
      "cell_type": "code",
      "metadata": {
        "id": "FkRmCQjnUSNV"
      },
      "source": [
        "# Создадим нейронную сеть\n",
        "\n",
        "class DenseLayer(tf.Module):\n",
        "    def __init__(self, in_features, out_features, name=None):\n",
        "        super().__init__(name=name)\n",
        "        # Место для вашего кода\n",
        "        self.w = tf.Variable(\n",
        "            tf.random.normal([in_features, out_features]), name=\"w\"\n",
        "        )\n",
        "        self.b = tf.Variable(tf.zeros([out_features]), name=\"b\")\n",
        "\n",
        "    def __call__(self, x):\n",
        "        # Место для вашего кода\n",
        "        y = tf.matmul(x, self.w) + self.b\n",
        "        # return tf.nn.relu(y)\n",
        "        return y\n",
        "\n",
        "class NN(tf.Module):\n",
        "  def __init__(self, name=None):\n",
        "    super().__init__(name=name)\n",
        "    # Первый слой, состоящий из 128 нейронов\n",
        "    # Место для вашего кода\n",
        "    self.layer_1 = DenseLayer(in_features=num_features, out_features=n_hidden_1)\n",
        "\n",
        "    # Второй слой, состоящий из 256 нейронов\n",
        "    # Место для вашего кода\n",
        "    self.layer_2 = DenseLayer(in_features=n_hidden_1, out_features=n_hidden_2)\n",
        "\n",
        "    # Выходной слой\n",
        "    # Место для вашего кода\n",
        "    self.output_layer = DenseLayer(in_features=n_hidden_2, out_features=num_classes)\n",
        "\n",
        "  def __call__(self, x):\n",
        "    # Место для вашего кода\n",
        "    x = tf.nn.relu(self.layer_1(x))\n",
        "    x = tf.nn.relu(self.layer_2(x))\n",
        "\n",
        "    # Помните что для выхода нейронной сети мы применяем к выходу функцию softmax.\n",
        "    # Делаем мы это для того, чтобы\n",
        "    # выход нейронной сети принимал значения от 0 до 1 в соответствии с вероятностью\n",
        "    # принадлежности входного объекта к одному из 10 классов\n",
        "\n",
        "    x = tf.nn.softmax(self.output_layer(x))\n",
        "    # x = tf.nn.softmax(x)\n",
        "\n",
        "    return x"
      ],
      "execution_count": 4,
      "outputs": []
    },
    {
      "cell_type": "code",
      "metadata": {
        "id": "LIf3o7VAUSNV"
      },
      "source": [
        "# В качестве функции ошибки в данном случае удобно взять кросс-энтропию\n",
        "def cross_entropy(y_pred, y_true):\n",
        "    # print('input')\n",
        "    # print(y_pred)\n",
        "    # print(y_true)\n",
        "    # Encode label to a one hot vector.\n",
        "    y_true = tf.one_hot(y_true, depth=num_classes)\n",
        "\n",
        "    # Clip prediction values to avoid log(0) error.\n",
        "    y_pred = tf.clip_by_value(y_pred, 1e-9, 1.)\n",
        "    # print('output')\n",
        "    # print(y_pred)\n",
        "    # print(y_true)\n",
        "    # Вычисление кросс-энтропии\n",
        "    return tf.reduce_mean(-tf.reduce_sum(y_true * tf.math.log(y_pred)))\n",
        "\n",
        "# В качестве метрики качества используем точность\n",
        "def accuracy(y_pred, y_true):\n",
        "    # Место для вашего кода\n",
        "\n",
        "    y_true = tf.one_hot(y_true, depth=num_classes)\n",
        "    y_pred = tf.clip_by_value(y_pred, 1e-9, 1.)\n",
        "\n",
        "    m = tf.keras.metrics.Accuracy()\n",
        "    m.update_state(y_pred, y_true)\n",
        "    return m.result().numpy()"
      ],
      "execution_count": 5,
      "outputs": []
    },
    {
      "cell_type": "code",
      "metadata": {
        "id": "MQeT1yatUSNW"
      },
      "source": [
        "# Создадим экзампляр нейронной сети\n",
        "neural_net = NN(name=\"mnist\")\n",
        "\n",
        "# Функция обучения нейросети\n",
        "def train(nn, input_x, output_y):\n",
        "  # Для подгонки весов сети будем использовать стохастический градиентный спуск\n",
        "  optimizer = tf.optimizers.SGD(learning_rate)\n",
        "\n",
        "  # Активация автоматического дифференцирования\n",
        "  with tf.GradientTape() as g:\n",
        "    pred = neural_net(input_x)\n",
        "    loss = cross_entropy(pred, output_y)\n",
        "\n",
        "    # Создадим оптимизируемых список параметров\n",
        "    # Место для вашего кода\n",
        "    # trainable_variables = [nn.layer_1.w, nn.layer_1.b,\n",
        "    #                        nn.layer_2.w, nn.layer_2.b,\n",
        "    #                        nn.output_layer.w, nn.output_layer.b]\n",
        "    trainable_variables = [nn.layer_1.w, nn.layer_1.b,\n",
        "                           nn.layer_2.w, nn.layer_2.b]\n",
        "    # Вычислим по ним значение градиента\n",
        "    # Место для вашего кода\n",
        "    gradients = g.gradient(loss, trainable_variables)\n",
        "    # Модифицируем параметры\n",
        "    # Место для вашего кода\n",
        "    optimizer.apply_gradients(zip(gradients, trainable_variables))\n"
      ],
      "execution_count": 6,
      "outputs": []
    },
    {
      "cell_type": "code",
      "metadata": {
        "id": "fnyns9lBfpQZ",
        "colab": {
          "base_uri": "https://localhost:8080/"
        },
        "outputId": "50066019-60d1-4604-e667-6a6e1471e8f4"
      },
      "source": [
        "# Тренировка сети\n",
        "\n",
        "loss_history = []  # каждые display_step шагов сохраняйте в этом список текущую ошибку нейросети\n",
        "accuracy_history = [] # каждые display_step шагов сохраняйте в этом список текущую точность нейросети\n",
        "\n",
        "# В этом цикле мы будем производить обучение нейронной сети\n",
        "# из тренировочного датасета train_data извлеките случайное подмножество, на котором\n",
        "# произведется тренировка. Используйте метод take, доступный для тренировочного датасета.\n",
        "for step, (batch_x, batch_y) in enumerate(train_data.take(1001), 0): # Место для вашего кода:\n",
        "    # Обновляем веса нейронной сети\n",
        "    # Место для вашего кода\n",
        "    # print(batch_y)\n",
        "    train(neural_net, batch_x, batch_y)\n",
        "\n",
        "    if step % display_step == 0:\n",
        "        print(step)\n",
        "\n",
        "        pred = neural_net(batch_x)\n",
        "        # pred1 = tf.argmax(pred, axis=1, output_type=tf.int32)\n",
        "        # Место для вашего кода\n",
        "        loss_history.append(cross_entropy(pred, batch_y).numpy())\n",
        "        accuracy_history.append(accuracy(pred, batch_y))\n",
        "\n",
        "#         print(pred.shape)\n",
        "print(loss_history)\n",
        "print(accuracy_history)"
      ],
      "execution_count": 7,
      "outputs": [
        {
          "output_type": "stream",
          "name": "stdout",
          "text": [
            "0\n"
          ]
        },
        {
          "output_type": "stream",
          "name": "stderr",
          "text": [
            "WARNING:tensorflow:5 out of the last 5 calls to <function _BaseOptimizer._update_step_xla at 0x7f7e04a91900> triggered tf.function retracing. Tracing is expensive and the excessive number of tracings could be due to (1) creating @tf.function repeatedly in a loop, (2) passing tensors with different shapes, (3) passing Python objects instead of tensors. For (1), please define your @tf.function outside of the loop. For (2), @tf.function has reduce_retracing=True option that can avoid unnecessary retracing. For (3), please refer to https://www.tensorflow.org/guide/function#controlling_retracing and https://www.tensorflow.org/api_docs/python/tf/function for  more details.\n",
            "WARNING:tensorflow:6 out of the last 6 calls to <function _BaseOptimizer._update_step_xla at 0x7f7e04a91900> triggered tf.function retracing. Tracing is expensive and the excessive number of tracings could be due to (1) creating @tf.function repeatedly in a loop, (2) passing tensors with different shapes, (3) passing Python objects instead of tensors. For (1), please define your @tf.function outside of the loop. For (2), @tf.function has reduce_retracing=True option that can avoid unnecessary retracing. For (3), please refer to https://www.tensorflow.org/guide/function#controlling_retracing and https://www.tensorflow.org/api_docs/python/tf/function for  more details.\n"
          ]
        },
        {
          "output_type": "stream",
          "name": "stdout",
          "text": [
            "100\n",
            "200\n",
            "300\n",
            "400\n",
            "500\n",
            "600\n",
            "700\n",
            "800\n",
            "900\n",
            "1000\n",
            "[4973.5835, 4662.7354, 3357.1694, 2486.792, 2466.0686, 2300.2827, 2652.5781, 2217.3896, 2548.962, 2175.9429, 2321.0059]\n",
            "[0.005859375, 0.012109375, 0.03671875, 0.053125, 0.053125, 0.056640625, 0.05, 0.058203124, 0.051953126, 0.058984376, 0.05625]\n"
          ]
        }
      ]
    },
    {
      "cell_type": "code",
      "source": [
        "print(loss_history)\n",
        "print(accuracy_history)"
      ],
      "metadata": {
        "id": "3OTbVyk43N6C",
        "outputId": "7616ec75-d1eb-472a-e3b2-d6417a9b6843",
        "colab": {
          "base_uri": "https://localhost:8080/"
        }
      },
      "execution_count": 8,
      "outputs": [
        {
          "output_type": "stream",
          "name": "stdout",
          "text": [
            "[4973.5835, 4662.7354, 3357.1694, 2486.792, 2466.0686, 2300.2827, 2652.5781, 2217.3896, 2548.962, 2175.9429, 2321.0059]\n",
            "[0.005859375, 0.012109375, 0.03671875, 0.053125, 0.053125, 0.056640625, 0.05, 0.058203124, 0.051953126, 0.058984376, 0.05625]\n"
          ]
        }
      ]
    },
    {
      "cell_type": "code",
      "source": [
        "pred.shape"
      ],
      "metadata": {
        "id": "4ev_4R-amDsQ",
        "colab": {
          "base_uri": "https://localhost:8080/"
        },
        "outputId": "a04cfbb6-716b-43bd-fed9-b269da023257"
      },
      "execution_count": 9,
      "outputs": [
        {
          "output_type": "execute_result",
          "data": {
            "text/plain": [
              "TensorShape([256, 10])"
            ]
          },
          "metadata": {},
          "execution_count": 9
        }
      ]
    },
    {
      "cell_type": "code",
      "source": [
        "steps = list(range(0, 1001, 100))\n",
        "steps"
      ],
      "metadata": {
        "id": "Gi2JWbbY_JF7",
        "outputId": "77201fcd-b473-4b7e-e64e-4a64c7b880d5",
        "colab": {
          "base_uri": "https://localhost:8080/"
        }
      },
      "execution_count": 10,
      "outputs": [
        {
          "output_type": "execute_result",
          "data": {
            "text/plain": [
              "[0, 100, 200, 300, 400, 500, 600, 700, 800, 900, 1000]"
            ]
          },
          "metadata": {},
          "execution_count": 10
        }
      ]
    },
    {
      "cell_type": "code",
      "metadata": {
        "id": "_yCBfG6MbQB2",
        "outputId": "fe133cf3-0cc1-42c3-b6bb-8ae5e3e1a6fa",
        "colab": {
          "base_uri": "https://localhost:8080/",
          "height": 430
        }
      },
      "source": [
        "# Выведите графики зависимости изменения точности и потерь от шага\n",
        "# Если все сделано правильно, то точность должна расти, а потери уменьшаться\n",
        "\n",
        "# Место для вашего кода\n",
        "steps = list(range(0, 1001, 100))\n",
        "\n",
        "plt.figure(1)\n",
        "plt.subplot(211)\n",
        "plt.plot(steps, loss_history, label='loss', color='b')\n",
        "plt.subplot(212)\n",
        "plt.plot(steps, accuracy_history, label='accuracy', color='r')\n",
        "\n",
        "plt.legend()\n",
        "plt.show()"
      ],
      "execution_count": 11,
      "outputs": [
        {
          "output_type": "display_data",
          "data": {
            "text/plain": [
              "<Figure size 640x480 with 2 Axes>"
            ],
            "image/png": "[encoded data removed]"
          },
          "metadata": {}
        }
      ]
    },
    {
      "cell_type": "code",
      "metadata": {
        "id": "LE3g4gDyUSNY"
      },
      "source": [
        "# Вычислите точность обученной нейросети\n",
        "\n",
        "# Место для вашего кода"
      ],
      "execution_count": 12,
      "outputs": []
    },
    {
      "cell_type": "code",
      "metadata": {
        "id": "_EEHAubOUSNY"
      },
      "source": [
        "# Протестируем обученную нейросеть на 10 изображениях. Из тестовой выборки возьмите 5\n",
        "# случайных изображений и передайте их в нейронню сеть.\n",
        "# Выведите изображение и выпишите рядом ответ нейросети.\n",
        "# Сделайте вывод о том ошибается ли ваша нейронная сеть и если да, то как часто?\n",
        "\n",
        "# Место для вашего кода"
      ],
      "execution_count": 13,
      "outputs": []
    }
  ]
}