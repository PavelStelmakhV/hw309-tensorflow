{
  "nbformat": 4,
  "nbformat_minor": 0,
  "metadata": {
    "kernelspec": {
      "display_name": "Python 3",
      "language": "python",
      "name": "python3"
    },
    "language_info": {
      "codemirror_mode": {
        "name": "ipython",
        "version": 3
      },
      "file_extension": ".py",
      "mimetype": "text/x-python",
      "name": "python",
      "nbconvert_exporter": "python",
      "pygments_lexer": "ipython3",
      "version": "3.8.0"
    },
    "colab": {
      "provenance": [],
      "include_colab_link": true
    },
    "accelerator": "GPU"
  },
  "cells": [
    {
      "cell_type": "markdown",
      "metadata": {
        "id": "view-in-github",
        "colab_type": "text"
      },
      "source": [
        "<a href=\"https://colab.research.google.com/github/PavelStelmakhV/hw309-tensorflow/blob/main/tensorflow_mnist_hw.ipynb\" target=\"_parent\"><img src=\"https://colab.research.google.com/assets/colab-badge.svg\" alt=\"Open In Colab\"/></a>"
      ]
    },
    {
      "cell_type": "markdown",
      "metadata": {
        "id": "b0Yf4NBJUSNM"
      },
      "source": [
        "# Создание нейронной сети\n",
        "\n",
        "В этом задании мы создадим полносвязную нейронную сеть используя при этом низкоуровневые механизмы tensorflow.\n",
        "\n",
        "Архитектутра нейросети представлена на следующем рисунке. Как видите, в ней имеется один входной слой, два скрытых, а так же выходной слой. В качестве активационной функции в скрытых слоях будет использоваться сигмоида. На выходном слое мы используем softmax.\n",
        "\n",
        "Часть кода по созданию сети уже написана, от вас требуется заполнить пропуски в указанных местах."
      ]
    },
    {
      "cell_type": "markdown",
      "metadata": {
        "id": "01rZWUu0USNQ"
      },
      "source": [
        "## Архитектура нейронной сети\n",
        "\n",
        "<img src=\"http://cs231n.github.io/assets/nn1/neural_net2.jpeg\" alt=\"nn\" style=\"width: 400px;\"/>\n"
      ]
    },
    {
      "cell_type": "markdown",
      "metadata": {
        "id": "LLvIZ705Qw_V"
      },
      "source": [
        "## О датасете MNIST\n",
        "\n",
        "Данную нейросеть мы будем обучать на датасете MNIST. Этот датасет представляет собой большое количество изображений рукописных цифр размером $28 \\times 28$ пикселей. Каждый пиксель принимает значение от 0 до 255.\n",
        "\n",
        "Как и раньше датасет будет разеделен на обучающую и тестовую выборки. При этом мы выполним нормализацию всех изображений, чтобы значения пикселей находились в промежутке от 0 до 1, разделив яркость каждого пикселя на 255.\n",
        "\n",
        "Кроме того, архитектура нейронной сети ожидает на вход вектор. В нашем же случае каждый объект выборки представляет собой матрицу. Что же делать? В этом задании мы \"растянем\" матрицу $28 \\times 28$, получив при этом вектор, состоящей из 784 элементов.\n",
        "\n",
        "![MNIST Dataset](https://www.researchgate.net/profile/Steven-Young-5/publication/306056875/figure/fig1/AS:393921575309346@1470929630835/Example-images-from-the-MNIST-dataset.png)\n",
        "\n",
        "Больше информации о датасете можно найти [здесь](http://yann.lecun.com/exdb/mnist/)."
      ]
    },
    {
      "cell_type": "code",
      "metadata": {
        "id": "il_0_5OyUSNR"
      },
      "source": [
        "import tensorflow as tf\n",
        "import numpy as np\n",
        "import matplotlib.pyplot as plt"
      ],
      "execution_count": 7,
      "outputs": []
    },
    {
      "cell_type": "code",
      "metadata": {
        "id": "cd-1_abTUSNS"
      },
      "source": [
        "num_classes = 10 # общее количество классов, в нашем случае это цифры от 0 до 9\n",
        "num_features = 784 # количество атрибутов входного вектора 28 * 28 = 784\n",
        "\n",
        "learning_rate = 0.001 # скорость обучения нейронной сети\n",
        "training_steps = 3000 # максимальное число эпох\n",
        "batch_size = 256 # пересчитывать веса сети мы будем не на всей выборке, а на ее случайном подможестве из batch_size элементов\n",
        "display_step = 100 # каждые 100 итераций мы будем показывать текущее значение функции потерь и точности\n",
        "\n",
        "n_hidden_1 = 128 # количество нейронов 1-го слоя\n",
        "n_hidden_2 = 256 # количество нейронов 2-го слоя"
      ],
      "execution_count": 8,
      "outputs": []
    },
    {
      "cell_type": "code",
      "metadata": {
        "id": "pGTXiRyTUSNT",
        "outputId": "9e1c7f9d-fc16-48fb-d5f4-c14305c1792d",
        "colab": {
          "base_uri": "https://localhost:8080/"
        }
      },
      "source": [
        "from tensorflow.keras.datasets import mnist\n",
        "\n",
        "# Загружаем датасет\n",
        "(x_train, y_train), (x_test, y_test) = mnist.load_data()\n",
        "\n",
        "# Преобразуем целочисленные пиксели к типа float32\n",
        "x_train, x_test = np.array(x_train, np.float32), np.array(x_test, np.float32)\n",
        "\n",
        "# Преобразуем матрицы размером 28x28 пикселей в вектор из 784 элементов\n",
        "x_train, x_test = x_train.reshape([-1, num_features]), x_test.reshape([-1, num_features])\n",
        "\n",
        "# Нормализуем значения пикселей\n",
        "x_train, x_test = x_train / 255., x_test / 255.\n",
        "\n",
        "# Перемешаем тренировочные данные\n",
        "train_data = tf.data.Dataset.from_tensor_slices((x_train, y_train))\n",
        "train_data = train_data.repeat().shuffle(5000).batch(batch_size).prefetch(1)"
      ],
      "execution_count": 9,
      "outputs": [
        {
          "output_type": "stream",
          "name": "stdout",
          "text": [
            "Downloading data from https://storage.googleapis.com/tensorflow/tf-keras-datasets/mnist.npz\n",
            "11490434/11490434 [==============================] - 2s 0us/step\n"
          ]
        }
      ]
    },
    {
      "cell_type": "code",
      "metadata": {
        "id": "FkRmCQjnUSNV"
      },
      "source": [
        "# Создадим нейронную сеть\n",
        "\n",
        "class DenseLayer(tf.Module):\n",
        "    def __init__(self, in_features, out_features, name=None):\n",
        "        super().__init__(name=name)\n",
        "        # Место для вашего кода\n",
        "        self.w = tf.Variable(\n",
        "            tf.random.normal([in_features, out_features]), name=\"w\"\n",
        "        )\n",
        "        self.b = tf.Variable(tf.zeros([out_features]), name=\"b\")\n",
        "\n",
        "    def __call__(self, x):\n",
        "        # Место для вашего кода\n",
        "        y = tf.matmul(x, self.w) + self.b\n",
        "        # return tf.nn.relu(y)\n",
        "        return y\n",
        "\n",
        "class NN(tf.Module):\n",
        "  def __init__(self, name=None):\n",
        "    super().__init__(name=name)\n",
        "    # Первый слой, состоящий из 128 нейронов\n",
        "    # Место для вашего кода\n",
        "    self.layer_1 = DenseLayer(in_features=num_features, out_features=n_hidden_1)\n",
        "\n",
        "    # Второй слой, состоящий из 256 нейронов\n",
        "    # Место для вашего кода\n",
        "    self.layer_2 = DenseLayer(in_features=n_hidden_1, out_features=n_hidden_2)\n",
        "\n",
        "    # Выходной слой\n",
        "    # Место для вашего кода\n",
        "    self.output_layer = DenseLayer(in_features=n_hidden_2, out_features=num_classes)\n",
        "\n",
        "  def __call__(self, x):\n",
        "    # Место для вашего кода\n",
        "    x = tf.math.sigmoid(self.layer_1(x))\n",
        "    x = tf.math.sigmoid(self.layer_2(x))\n",
        "\n",
        "    # Помните что для выхода нейронной сети мы применяем к выходу функцию softmax.\n",
        "    # Делаем мы это для того, чтобы\n",
        "    # выход нейронной сети принимал значения от 0 до 1 в соответствии с вероятностью\n",
        "    # принадлежности входного объекта к одному из 10 классов\n",
        "\n",
        "    x = tf.nn.softmax(self.output_layer(x))\n",
        "    # x = tf.nn.softmax(x)\n",
        "\n",
        "    return x"
      ],
      "execution_count": 10,
      "outputs": []
    },
    {
      "cell_type": "code",
      "metadata": {
        "id": "LIf3o7VAUSNV"
      },
      "source": [
        "# В качестве функции ошибки в данном случае удобно взять кросс-энтропию\n",
        "def cross_entropy(y_pred, y_true):\n",
        "    # Encode label to a one hot vector.\n",
        "    y_true = tf.one_hot(y_true, depth=num_classes)\n",
        "\n",
        "    # Clip prediction values to avoid log(0) error.\n",
        "    y_pred = tf.clip_by_value(y_pred, 1e-9, 1.)\n",
        "\n",
        "    # Вычисление кросс-энтропии\n",
        "    return tf.reduce_mean(-tf.reduce_sum(y_true * tf.math.log(y_pred)))\n",
        "\n",
        "# В качестве метрики качества используем точность\n",
        "def accuracy(y_pred, y_true):\n",
        "    # Место для вашего кода\n",
        "\n",
        "    y_true = tf.one_hot(y_true, depth=num_classes)\n",
        "    y_pred = tf.clip_by_value(y_pred, 1e-9, 1.)\n",
        "\n",
        "    m = tf.keras.metrics.CategoricalAccuracy()\n",
        "    m.update_state(y_true, y_pred)\n",
        "    return m.result().numpy()"
      ],
      "execution_count": 46,
      "outputs": []
    },
    {
      "cell_type": "code",
      "source": [
        "# temp1 = tf.Variable(2)\n",
        "# temp2 = tf.Variable([0., 1., 0., 0., 0., 0., 0., 0., 0., 0.])"
      ],
      "metadata": {
        "id": "zBa8FPY6YrmO"
      },
      "execution_count": 30,
      "outputs": []
    },
    {
      "cell_type": "code",
      "source": [
        "# acc = accuracy(temp2, temp1)\n",
        "# print(acc)"
      ],
      "metadata": {
        "id": "As61wge0azfS"
      },
      "execution_count": null,
      "outputs": []
    },
    {
      "cell_type": "code",
      "source": [
        "# tf.keras.metrics.CategoricalCrossentropy(\n",
        "#     name='categorical_crossentropy',\n",
        "#     dtype=None,\n",
        "#     from_logits=False,\n",
        "#     label_smoothing=0,\n",
        "#     axis=-1\n",
        "# )"
      ],
      "metadata": {
        "id": "aSTYP1a0OyNA"
      },
      "execution_count": null,
      "outputs": []
    },
    {
      "cell_type": "code",
      "metadata": {
        "id": "MQeT1yatUSNW"
      },
      "source": [
        "# Создадим экзампляр нейронной сети\n",
        "neural_net = NN(name=\"mnist\")\n",
        "\n",
        "# Функция обучения нейросети\n",
        "def train(nn, input_x, output_y):\n",
        "  # Для подгонки весов сети будем использовать стохастический градиентный спуск\n",
        "  optimizer = tf.optimizers.SGD(learning_rate)\n",
        "\n",
        "  # Активация автоматического дифференцирования\n",
        "  with tf.GradientTape() as g:\n",
        "    pred = neural_net(input_x)\n",
        "    loss = cross_entropy(pred, output_y)\n",
        "\n",
        "    # Создадим оптимизируемых список параметров\n",
        "    # Место для вашего кода\n",
        "    # trainable_variables = [nn.layer_1.w, nn.layer_1.b,\n",
        "    #                        nn.layer_2.w, nn.layer_2.b,\n",
        "    #                        nn.output_layer.w, nn.output_layer.b]\n",
        "    trainable_variables = [nn.layer_1.w, nn.layer_1.b,\n",
        "                           nn.layer_2.w, nn.layer_2.b]\n",
        "    # Вычислим по ним значение градиента\n",
        "    # Место для вашего кода\n",
        "    gradients = g.gradient(loss, trainable_variables)\n",
        "    # Модифицируем параметры\n",
        "    # Место для вашего кода\n",
        "    optimizer.apply_gradients(zip(gradients, trainable_variables))\n"
      ],
      "execution_count": 32,
      "outputs": []
    },
    {
      "cell_type": "code",
      "metadata": {
        "id": "fnyns9lBfpQZ",
        "colab": {
          "base_uri": "https://localhost:8080/"
        },
        "outputId": "339e301c-65f5-4b1f-ad57-ac9464ba3b33"
      },
      "source": [
        "# Тренировка сети\n",
        "\n",
        "loss_history = []  # каждые display_step шагов сохраняйте в этом список текущую ошибку нейросети\n",
        "accuracy_history = [] # каждые display_step шагов сохраняйте в этом список текущую точность нейросети\n",
        "\n",
        "# В этом цикле мы будем производить обучение нейронной сети\n",
        "# из тренировочного датасета train_data извлеките случайное подмножество, на котором\n",
        "# произведется тренировка. Используйте метод take, доступный для тренировочного датасета.\n",
        "for step, (batch_x, batch_y) in enumerate(train_data.take(1001), 0): # Место для вашего кода:\n",
        "    # Обновляем веса нейронной сети\n",
        "    # Место для вашего кода\n",
        "    # print(batch_y)\n",
        "    train(neural_net, batch_x, batch_y)\n",
        "\n",
        "    if step % display_step == 0:\n",
        "        pred = neural_net(batch_x)\n",
        "        # pred1 = tf.argmax(pred, axis=1, output_type=tf.int32)\n",
        "        # Место для вашего кода\n",
        "\n",
        "        loss_history.append(cross_entropy(pred, batch_y).numpy())\n",
        "        accuracy_history.append(accuracy(pred, batch_y))\n",
        "        # print(accuracy(batch_y, batch_y), accuracy(pred, pred))\n",
        "        print(f'{step}, loss: {loss_history[-1]}, acc: {accuracy_history[-1]}')\n",
        "#         print(pred.shape)"
      ],
      "execution_count": 47,
      "outputs": [
        {
          "output_type": "stream",
          "name": "stdout",
          "text": [
            "0, loss: 248.66177368164062, acc: 0.69140625\n",
            "100, loss: 263.9630126953125, acc: 0.74609375\n",
            "200, loss: 221.20359802246094, acc: 0.78515625\n",
            "300, loss: 182.66574096679688, acc: 0.81640625\n",
            "400, loss: 198.92820739746094, acc: 0.80078125\n",
            "500, loss: 145.5430450439453, acc: 0.87109375\n",
            "600, loss: 164.4290771484375, acc: 0.8359375\n",
            "700, loss: 143.8682403564453, acc: 0.828125\n",
            "800, loss: 121.14436340332031, acc: 0.84765625\n",
            "900, loss: 89.40435028076172, acc: 0.89453125\n",
            "1000, loss: 92.17569732666016, acc: 0.91015625\n"
          ]
        }
      ]
    },
    {
      "cell_type": "code",
      "source": [
        "batch_y[1]"
      ],
      "metadata": {
        "id": "uTBhdxoKsULl",
        "outputId": "f43fe351-fea9-4812-d9d9-8b7cda6aea6a",
        "colab": {
          "base_uri": "https://localhost:8080/"
        }
      },
      "execution_count": 48,
      "outputs": [
        {
          "output_type": "execute_result",
          "data": {
            "text/plain": [
              "<tf.Tensor: shape=(), dtype=uint8, numpy=5>"
            ]
          },
          "metadata": {},
          "execution_count": 48
        }
      ]
    },
    {
      "cell_type": "code",
      "source": [
        "pred[1]"
      ],
      "metadata": {
        "id": "5L_b9ozMsftE",
        "outputId": "1ded857d-e3d8-45ae-fd97-d05916dda918",
        "colab": {
          "base_uri": "https://localhost:8080/"
        }
      },
      "execution_count": 49,
      "outputs": [
        {
          "output_type": "execute_result",
          "data": {
            "text/plain": [
              "<tf.Tensor: shape=(10,), dtype=float32, numpy=\n",
              "array([1.6529762e-04, 1.0854719e-04, 2.0714439e-05, 6.2160897e-03,\n",
              "       2.5007801e-06, 9.8594981e-01, 2.5122732e-04, 3.9445717e-04,\n",
              "       6.7799888e-03, 1.1132560e-04], dtype=float32)>"
            ]
          },
          "metadata": {},
          "execution_count": 49
        }
      ]
    },
    {
      "cell_type": "code",
      "source": [
        "batch_y.shape"
      ],
      "metadata": {
        "id": "uCve9iXro16F",
        "outputId": "a48f5a51-306f-457e-a8ba-b0bf87905856",
        "colab": {
          "base_uri": "https://localhost:8080/"
        }
      },
      "execution_count": 50,
      "outputs": [
        {
          "output_type": "execute_result",
          "data": {
            "text/plain": [
              "TensorShape([256])"
            ]
          },
          "metadata": {},
          "execution_count": 50
        }
      ]
    },
    {
      "cell_type": "code",
      "source": [
        "pred.shape"
      ],
      "metadata": {
        "id": "9Fs5u5j0phnL",
        "outputId": "7c4e766b-53bc-458e-9905-f772a3a74c56",
        "colab": {
          "base_uri": "https://localhost:8080/"
        }
      },
      "execution_count": 51,
      "outputs": [
        {
          "output_type": "execute_result",
          "data": {
            "text/plain": [
              "TensorShape([256, 10])"
            ]
          },
          "metadata": {},
          "execution_count": 51
        }
      ]
    },
    {
      "cell_type": "code",
      "source": [
        "print(loss_history)\n",
        "print(accuracy_history)"
      ],
      "metadata": {
        "id": "3OTbVyk43N6C",
        "outputId": "24221771-f417-4ce9-b2c0-442e88ca5ce1",
        "colab": {
          "base_uri": "https://localhost:8080/"
        }
      },
      "execution_count": 52,
      "outputs": [
        {
          "output_type": "stream",
          "name": "stdout",
          "text": [
            "[248.66177, 263.963, 221.2036, 182.66574, 198.9282, 145.54305, 164.42908, 143.86824, 121.14436, 89.40435, 92.1757]\n",
            "[0.69140625, 0.74609375, 0.78515625, 0.81640625, 0.80078125, 0.87109375, 0.8359375, 0.828125, 0.84765625, 0.89453125, 0.91015625]\n"
          ]
        }
      ]
    },
    {
      "cell_type": "code",
      "source": [
        "pred.shape"
      ],
      "metadata": {
        "id": "4ev_4R-amDsQ",
        "colab": {
          "base_uri": "https://localhost:8080/"
        },
        "outputId": "70ec6089-98d2-4d2b-cb96-abed9aaaa199"
      },
      "execution_count": 53,
      "outputs": [
        {
          "output_type": "execute_result",
          "data": {
            "text/plain": [
              "TensorShape([256, 10])"
            ]
          },
          "metadata": {},
          "execution_count": 53
        }
      ]
    },
    {
      "cell_type": "code",
      "source": [
        "steps = list(range(0, 1001, 100))\n",
        "steps"
      ],
      "metadata": {
        "id": "Gi2JWbbY_JF7",
        "outputId": "1db43a95-d944-403a-fc00-44bb85ce0ae3",
        "colab": {
          "base_uri": "https://localhost:8080/"
        }
      },
      "execution_count": 54,
      "outputs": [
        {
          "output_type": "execute_result",
          "data": {
            "text/plain": [
              "[0, 100, 200, 300, 400, 500, 600, 700, 800, 900, 1000]"
            ]
          },
          "metadata": {},
          "execution_count": 54
        }
      ]
    },
    {
      "cell_type": "code",
      "metadata": {
        "id": "_yCBfG6MbQB2",
        "outputId": "a14f75a0-3482-489d-81b7-146d17804e5a",
        "colab": {
          "base_uri": "https://localhost:8080/",
          "height": 449
        }
      },
      "source": [
        "# Выведите графики зависимости изменения точности и потерь от шага\n",
        "# Если все сделано правильно, то точность должна расти, а потери уменьшаться\n",
        "\n",
        "# Место для вашего кода\n",
        "steps = list(range(0, 1001, 100))\n",
        "\n",
        "plt.figure(1)\n",
        "plt.subplot(2, 1, 1, ylabel='loss')\n",
        "plt.plot(steps, loss_history, color='b')\n",
        "\n",
        "plt.subplot(2, 1, 2, ylabel='accuracy', xlabel='steps')\n",
        "plt.plot(steps, accuracy_history, color='r')\n",
        "\n",
        "\n",
        "plt.show()"
      ],
      "execution_count": 56,
      "outputs": [
        {
          "output_type": "display_data",
          "data": {
            "text/plain": [
              "<Figure size 640x480 with 2 Axes>"
            ],
            "image/png": "[encoded data removed]"
          },
          "metadata": {}
        }
      ]
    },
    {
      "cell_type": "code",
      "metadata": {
        "id": "LE3g4gDyUSNY",
        "colab": {
          "base_uri": "https://localhost:8080/"
        },
        "outputId": "5075aa0a-4f00-49ac-9316-82469be1cd90"
      },
      "source": [
        "# Вычислите точность обученной нейросети\n",
        "\n",
        "# Место для вашего кода\n",
        "\n",
        "y_test_pred = neural_net(x_test)\n",
        "acc = accuracy(y_test_pred, y_test)\n",
        "print(f'accuracy: ', acc)"
      ],
      "execution_count": 57,
      "outputs": [
        {
          "output_type": "stream",
          "name": "stdout",
          "text": [
            "accuracy:  0.8653\n"
          ]
        }
      ]
    },
    {
      "cell_type": "code",
      "metadata": {
        "id": "_EEHAubOUSNY"
      },
      "source": [
        "# Протестируем обученную нейросеть на 10 изображениях. Из тестовой выборки возьмите 5\n",
        "# случайных изображений и передайте их в нейронню сеть.\n",
        "# Выведите изображение и выпишите рядом ответ нейросети.\n",
        "# Сделайте вывод о том ошибается ли ваша нейронная сеть и если да, то как часто?\n",
        "\n",
        "# Место для вашего кода\n",
        "\n"
      ],
      "execution_count": 58,
      "outputs": []
    }
  ]
}