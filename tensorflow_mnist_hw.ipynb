{
  "nbformat": 4,
  "nbformat_minor": 0,
  "metadata": {
    "kernelspec": {
      "display_name": "Python 3",
      "language": "python",
      "name": "python3"
    },
    "language_info": {
      "codemirror_mode": {
        "name": "ipython",
        "version": 3
      },
      "file_extension": ".py",
      "mimetype": "text/x-python",
      "name": "python",
      "nbconvert_exporter": "python",
      "pygments_lexer": "ipython3",
      "version": "3.8.0"
    },
    "colab": {
      "provenance": [],
      "include_colab_link": true
    },
    "accelerator": "GPU"
  },
  "cells": [
    {
      "cell_type": "markdown",
      "metadata": {
        "id": "view-in-github",
        "colab_type": "text"
      },
      "source": [
        "<a href=\"https://colab.research.google.com/github/PavelStelmakhV/hw309-tensorflow/blob/main/tensorflow_mnist_hw.ipynb\" target=\"_parent\"><img src=\"https://colab.research.google.com/assets/colab-badge.svg\" alt=\"Open In Colab\"/></a>"
      ]
    },
    {
      "cell_type": "markdown",
      "metadata": {
        "id": "b0Yf4NBJUSNM"
      },
      "source": [
        "# Создание нейронной сети\n",
        "\n",
        "В этом задании мы создадим полносвязную нейронную сеть используя при этом низкоуровневые механизмы tensorflow.\n",
        "\n",
        "Архитектутра нейросети представлена на следующем рисунке. Как видите, в ней имеется один входной слой, два скрытых, а так же выходной слой. В качестве активационной функции в скрытых слоях будет использоваться сигмоида. На выходном слое мы используем softmax.\n",
        "\n",
        "Часть кода по созданию сети уже написана, от вас требуется заполнить пропуски в указанных местах."
      ]
    },
    {
      "cell_type": "markdown",
      "metadata": {
        "id": "01rZWUu0USNQ"
      },
      "source": [
        "## Архитектура нейронной сети\n",
        "\n",
        "<img src=\"http://cs231n.github.io/assets/nn1/neural_net2.jpeg\" alt=\"nn\" style=\"width: 400px;\"/>\n"
      ]
    },
    {
      "cell_type": "markdown",
      "metadata": {
        "id": "LLvIZ705Qw_V"
      },
      "source": [
        "## О датасете MNIST\n",
        "\n",
        "Данную нейросеть мы будем обучать на датасете MNIST. Этот датасет представляет собой большое количество изображений рукописных цифр размером $28 \\times 28$ пикселей. Каждый пиксель принимает значение от 0 до 255.\n",
        "\n",
        "Как и раньше датасет будет разеделен на обучающую и тестовую выборки. При этом мы выполним нормализацию всех изображений, чтобы значения пикселей находились в промежутке от 0 до 1, разделив яркость каждого пикселя на 255.\n",
        "\n",
        "Кроме того, архитектура нейронной сети ожидает на вход вектор. В нашем же случае каждый объект выборки представляет собой матрицу. Что же делать? В этом задании мы \"растянем\" матрицу $28 \\times 28$, получив при этом вектор, состоящей из 784 элементов.\n",
        "\n",
        "![MNIST Dataset](https://www.researchgate.net/profile/Steven-Young-5/publication/306056875/figure/fig1/AS:393921575309346@1470929630835/Example-images-from-the-MNIST-dataset.png)\n",
        "\n",
        "Больше информации о датасете можно найти [здесь](http://yann.lecun.com/exdb/mnist/)."
      ]
    },
    {
      "cell_type": "code",
      "metadata": {
        "id": "il_0_5OyUSNR"
      },
      "source": [
        "import tensorflow as tf\n",
        "import numpy as np\n",
        "import matplotlib.pyplot as plt\n",
        "import random"
      ],
      "execution_count": null,
      "outputs": []
    },
    {
      "cell_type": "code",
      "metadata": {
        "id": "cd-1_abTUSNS"
      },
      "source": [
        "num_classes = 10 # общее количество классов, в нашем случае это цифры от 0 до 9\n",
        "num_features = 784 # количество атрибутов входного вектора 28 * 28 = 784\n",
        "\n",
        "learning_rate = 0.001 # скорость обучения нейронной сети\n",
        "training_steps = 3000 # максимальное число эпох\n",
        "batch_size = 256 # пересчитывать веса сети мы будем не на всей выборке, а на ее случайном подможестве из batch_size элементов\n",
        "display_step = 100 # каждые 100 итераций мы будем показывать текущее значение функции потерь и точности\n",
        "\n",
        "n_hidden_1 = 128 # количество нейронов 1-го слоя\n",
        "n_hidden_2 = 256 # количество нейронов 2-го слоя"
      ],
      "execution_count": null,
      "outputs": []
    },
    {
      "cell_type": "code",
      "metadata": {
        "id": "pGTXiRyTUSNT"
      },
      "source": [
        "from tensorflow.keras.datasets import mnist\n",
        "\n",
        "# Загружаем датасет\n",
        "(x_train, y_train), (x_test, y_test) = mnist.load_data()\n",
        "\n",
        "# Преобразуем целочисленные пиксели к типа float32\n",
        "x_train, x_test = np.array(x_train, np.float32), np.array(x_test, np.float32)\n",
        "\n",
        "# Преобразуем матрицы размером 28x28 пикселей в вектор из 784 элементов\n",
        "x_train, x_test = x_train.reshape([-1, num_features]), x_test.reshape([-1, num_features])\n",
        "\n",
        "# Нормализуем значения пикселей\n",
        "x_train, x_test = x_train / 255., x_test / 255.\n",
        "\n",
        "# Перемешаем тренировочные данные\n",
        "train_data = tf.data.Dataset.from_tensor_slices((x_train, y_train))\n",
        "train_data = train_data.repeat().shuffle(5000).batch(batch_size).prefetch(1)"
      ],
      "execution_count": null,
      "outputs": []
    },
    {
      "cell_type": "code",
      "metadata": {
        "id": "FkRmCQjnUSNV"
      },
      "source": [
        "# Создадим нейронную сеть\n",
        "\n",
        "class DenseLayer(tf.Module):\n",
        "    def __init__(self, in_features, out_features, name=None):\n",
        "        super().__init__(name=name)\n",
        "        # Место для вашего кода\n",
        "        self.w = tf.Variable(\n",
        "            tf.random.normal([in_features, out_features]), name=\"w\"\n",
        "        )\n",
        "        self.b = tf.Variable(tf.zeros([out_features]), name=\"b\")\n",
        "\n",
        "    def __call__(self, x):\n",
        "        # Место для вашего кода\n",
        "        y = tf.matmul(x, self.w) + self.b\n",
        "        return y\n",
        "\n",
        "class NN(tf.Module):\n",
        "  def __init__(self, name=None):\n",
        "    super().__init__(name=name)\n",
        "    # Первый слой, состоящий из 128 нейронов\n",
        "    # Место для вашего кода\n",
        "    self.layer_1 = DenseLayer(in_features=num_features, out_features=n_hidden_1)\n",
        "\n",
        "    # Второй слой, состоящий из 256 нейронов\n",
        "    # Место для вашего кода\n",
        "    self.layer_2 = DenseLayer(in_features=n_hidden_1, out_features=n_hidden_2)\n",
        "\n",
        "    # Выходной слой\n",
        "    # Место для вашего кода\n",
        "    self.output_layer = DenseLayer(in_features=n_hidden_2, out_features=num_classes)\n",
        "\n",
        "  def __call__(self, x):\n",
        "    # Место для вашего кода\n",
        "    x = tf.math.sigmoid(self.layer_1(x))\n",
        "    x = tf.math.sigmoid(self.layer_2(x))\n",
        "\n",
        "    # Помните что для выхода нейронной сети мы применяем к выходу функцию softmax.\n",
        "    # Делаем мы это для того, чтобы\n",
        "    # выход нейронной сети принимал значения от 0 до 1 в соответствии с вероятностью\n",
        "    # принадлежности входного объекта к одному из 10 классов\n",
        "\n",
        "    x = tf.nn.softmax(self.output_layer(x))\n",
        "    # x = tf.nn.softmax(x)\n",
        "\n",
        "    return x"
      ],
      "execution_count": null,
      "outputs": []
    },
    {
      "cell_type": "code",
      "metadata": {
        "id": "LIf3o7VAUSNV"
      },
      "source": [
        "# В качестве функции ошибки в данном случае удобно взять кросс-энтропию\n",
        "def cross_entropy(y_pred, y_true):\n",
        "    # Encode label to a one hot vector.\n",
        "    y_true = tf.one_hot(y_true, depth=num_classes)\n",
        "\n",
        "    # Clip prediction values to avoid log(0) error.\n",
        "    y_pred = tf.clip_by_value(y_pred, 1e-9, 1.)\n",
        "\n",
        "    # Вычисление кросс-энтропии\n",
        "    return tf.reduce_mean(-tf.reduce_sum(y_true * tf.math.log(y_pred)))\n",
        "\n",
        "# В качестве метрики качества используем точность\n",
        "def accuracy(y_pred, y_true):\n",
        "    # Место для вашего кода\n",
        "\n",
        "    y_true = tf.one_hot(y_true, depth=num_classes)\n",
        "    y_pred = tf.clip_by_value(y_pred, 1e-9, 1.)\n",
        "\n",
        "    m = tf.keras.metrics.CategoricalAccuracy()\n",
        "    m.update_state(y_true, y_pred)\n",
        "    return m.result().numpy()"
      ],
      "execution_count": null,
      "outputs": []
    },
    {
      "cell_type": "code",
      "metadata": {
        "id": "MQeT1yatUSNW"
      },
      "source": [
        "# Создадим экзампляр нейронной сети\n",
        "neural_net = NN(name=\"mnist\")\n",
        "\n",
        "# Функция обучения нейросети\n",
        "def train(nn, input_x, output_y):\n",
        "  # Для подгонки весов сети будем использовать стохастический градиентный спуск\n",
        "  optimizer = tf.optimizers.SGD(learning_rate)\n",
        "\n",
        "  # Активация автоматического дифференцирования\n",
        "  with tf.GradientTape() as g:\n",
        "    pred = neural_net(input_x)\n",
        "    loss = cross_entropy(pred, output_y)\n",
        "\n",
        "    # Создадим оптимизируемых список параметров\n",
        "    # Место для вашего кода\n",
        "    # trainable_variables = [nn.layer_1.w, nn.layer_1.b,\n",
        "    #                        nn.layer_2.w, nn.layer_2.b,\n",
        "    #                        nn.output_layer.w, nn.output_layer.b]\n",
        "    trainable_variables = [nn.layer_1.w, nn.layer_1.b,\n",
        "                           nn.layer_2.w, nn.layer_2.b]\n",
        "    # Вычислим по ним значение градиента\n",
        "    # Место для вашего кода\n",
        "    gradients = g.gradient(loss, trainable_variables)\n",
        "    # Модифицируем параметры\n",
        "    # Место для вашего кода\n",
        "    optimizer.apply_gradients(zip(gradients, trainable_variables))\n"
      ],
      "execution_count": null,
      "outputs": []
    },
    {
      "cell_type": "code",
      "metadata": {
        "id": "fnyns9lBfpQZ",
        "colab": {
          "base_uri": "https://localhost:8080/"
        },
        "outputId": "97cc5f47-9682-45d0-a445-dd5b24a44bc8"
      },
      "source": [
        "# Тренировка сети\n",
        "\n",
        "loss_history = []  # каждые display_step шагов сохраняйте в этом список текущую ошибку нейросети\n",
        "accuracy_history = [] # каждые display_step шагов сохраняйте в этом список текущую точность нейросети\n",
        "\n",
        "# В этом цикле мы будем производить обучение нейронной сети\n",
        "# из тренировочного датасета train_data извлеките случайное подмножество, на котором\n",
        "# произведется тренировка. Используйте метод take, доступный для тренировочного датасета.\n",
        "for step, (batch_x, batch_y) in enumerate(train_data.take(training_steps), 0): # Место для вашего кода:\n",
        "    # Обновляем веса нейронной сети\n",
        "    # Место для вашего кода\n",
        "    train(neural_net, batch_x, batch_y)\n",
        "\n",
        "    if step % display_step == 0:\n",
        "        pred = neural_net(batch_x)\n",
        "        # Место для вашего кода\n",
        "\n",
        "        loss_history.append(cross_entropy(pred, batch_y).numpy())\n",
        "        accuracy_history.append(accuracy(pred, batch_y))\n",
        "        print(f'{step}, loss: {loss_history[-1]}, acc: {accuracy_history[-1]}')"
      ],
      "execution_count": null,
      "outputs": [
        {
          "output_type": "stream",
          "name": "stdout",
          "text": [
            "0, loss: 4046.539306640625, acc: 0.10546875\n",
            "100, loss: 423.8926086425781, acc: 0.60546875\n",
            "200, loss: 232.25296020507812, acc: 0.75390625\n",
            "300, loss: 206.43849182128906, acc: 0.7890625\n",
            "400, loss: 230.37911987304688, acc: 0.734375\n",
            "500, loss: 164.6962127685547, acc: 0.8359375\n",
            "600, loss: 167.6260528564453, acc: 0.80078125\n",
            "700, loss: 168.7683868408203, acc: 0.80078125\n",
            "800, loss: 127.05870056152344, acc: 0.86328125\n",
            "900, loss: 142.58163452148438, acc: 0.8515625\n",
            "1000, loss: 143.56979370117188, acc: 0.81640625\n",
            "1100, loss: 114.72798156738281, acc: 0.8671875\n",
            "1200, loss: 80.38330841064453, acc: 0.90625\n",
            "1300, loss: 95.92640686035156, acc: 0.87890625\n",
            "1400, loss: 115.00967407226562, acc: 0.890625\n",
            "1500, loss: 86.39380645751953, acc: 0.890625\n",
            "1600, loss: 115.7684555053711, acc: 0.87109375\n",
            "1700, loss: 111.80794525146484, acc: 0.89453125\n",
            "1800, loss: 157.4065704345703, acc: 0.859375\n",
            "1900, loss: 72.12063598632812, acc: 0.921875\n",
            "2000, loss: 71.96528625488281, acc: 0.921875\n",
            "2100, loss: 80.88578033447266, acc: 0.90234375\n",
            "2200, loss: 84.0190200805664, acc: 0.9140625\n",
            "2300, loss: 106.88504028320312, acc: 0.8984375\n",
            "2400, loss: 68.24456024169922, acc: 0.92578125\n",
            "2500, loss: 74.32149505615234, acc: 0.8984375\n",
            "2600, loss: 77.96098327636719, acc: 0.9140625\n",
            "2700, loss: 50.23949432373047, acc: 0.92578125\n",
            "2800, loss: 81.54934692382812, acc: 0.9140625\n",
            "2900, loss: 83.8616714477539, acc: 0.8984375\n"
          ]
        }
      ]
    },
    {
      "cell_type": "code",
      "metadata": {
        "id": "_yCBfG6MbQB2",
        "outputId": "a697643c-5a50-4c47-ac64-85ddaa8f4f42",
        "colab": {
          "base_uri": "https://localhost:8080/",
          "height": 449
        }
      },
      "source": [
        "# Выведите графики зависимости изменения точности и потерь от шага\n",
        "# Если все сделано правильно, то точность должна расти, а потери уменьшаться\n",
        "\n",
        "# Место для вашего кода\n",
        "steps = list(range(0, training_steps, 100))\n",
        "\n",
        "plt.figure(1)\n",
        "plt.subplot(2, 1, 1, ylabel='loss')\n",
        "plt.plot(steps, loss_history, color='b')\n",
        "\n",
        "plt.subplot(2, 1, 2, ylabel='accuracy', xlabel='steps')\n",
        "plt.plot(steps, accuracy_history, color='r')\n",
        "\n",
        "\n",
        "plt.show()"
      ],
      "execution_count": null,
      "outputs": [
        {
          "output_type": "display_data",
          "data": {
            "text/plain": [
              "<Figure size 640x480 with 2 Axes>"
            ],
            "image/png": "[encoded data removed]"
          },
          "metadata": {}
        }
      ]
    },
    {
      "cell_type": "code",
      "metadata": {
        "id": "LE3g4gDyUSNY",
        "colab": {
          "base_uri": "https://localhost:8080/"
        },
        "outputId": "bf3f6708-d697-4742-a587-a695de1bb41e"
      },
      "source": [
        "# Вычислите точность обученной нейросети\n",
        "\n",
        "# Место для вашего кода\n",
        "y_test_pred = neural_net(x_test)\n",
        "acc = accuracy(y_test_pred, y_test)\n",
        "print(f'accuracy: ', acc)"
      ],
      "execution_count": null,
      "outputs": [
        {
          "output_type": "stream",
          "name": "stdout",
          "text": [
            "accuracy:  0.8941\n"
          ]
        }
      ]
    },
    {
      "cell_type": "code",
      "metadata": {
        "id": "_EEHAubOUSNY",
        "outputId": "22f9c3a1-e1cc-4901-ad0b-ca8139b9af62",
        "colab": {
          "base_uri": "https://localhost:8080/",
          "height": 830
        }
      },
      "source": [
        "# Протестируем обученную нейросеть на 10 изображениях. Из тестовой выборки возьмите 5\n",
        "# случайных изображений и передайте их в нейронню сеть.\n",
        "# Выведите изображение и выпишите рядом ответ нейросети.\n",
        "# Сделайте вывод о том ошибается ли ваша нейронная сеть и если да, то как часто?\n",
        "\n",
        "# Место для вашего кода\n",
        "\n",
        "plt.figure(figsize=(10,10))\n",
        "for i in range(10):\n",
        "    num_picture = random.randrange(0, 10000, 1)\n",
        "\n",
        "    plt.subplot(5,4,i*2+1)\n",
        "    plt.xticks([])\n",
        "    plt.yticks([])\n",
        "    plt.grid(False)\n",
        "    x_points = x_test[num_picture].reshape([28, 28])\n",
        "    plt.imshow(x_points, cmap=plt.cm.binary)\n",
        "\n",
        "    plt.subplot(5,4,i*2+2)\n",
        "    plt.xticks(range(10))\n",
        "    plt.yticks([])\n",
        "    plt.grid(False)\n",
        "    predictions_array = y_test_pred[num_picture]\n",
        "\n",
        "    thisplot = plt.bar(range(10), predictions_array, color=\"#777777\")\n",
        "    plt.ylim([0, 1])\n",
        "    predicted_label = np.argmax(predictions_array)\n",
        "    thisplot[predicted_label].set_color('red')\n",
        "    thisplot[y_test[num_picture]].set_color('blue')\n",
        "\n",
        "plt.show()"
      ],
      "execution_count": null,
      "outputs": [
        {
          "output_type": "display_data",
          "data": {
            "text/plain": [
              "<Figure size 1000x1000 with 20 Axes>"
            ],
            "image/png": "[encoded data removed]"
          },
          "metadata": {}
        }
      ]
    },
    {
      "cell_type": "markdown",
      "source": [
        "## Точность нейросети на случайном наборе из 10 елементов тестовой выборки получилась 90%. Это хороший показатель и соответствует точности на тестовых и тренировочных данных"
      ],
      "metadata": {
        "id": "ruSjltUpvkRL"
      }
    }
  ]
}